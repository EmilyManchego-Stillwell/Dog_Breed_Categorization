{
 "cells": [
  {
   "cell_type": "code",
   "execution_count": 18,
   "id": "823082cf",
   "metadata": {},
   "outputs": [],
   "source": [
    "#TechVidvan\n",
    "# load all required libraries for Dog's Breed Identification Project\n",
    "import cv2\n",
    "import numpy as np \n",
    "import pandas as pd \n",
    "from tensorflow.keras.preprocessing.image import ImageDataGenerator\n",
    "from sklearn.model_selection import train_test_split\n",
    "from sklearn.preprocessing import LabelEncoder\n",
    "from tensorflow.keras.models import load_model, Model\n",
    "from tensorflow.keras.optimizers import RMSprop\n",
    "from tensorflow.keras.layers import Dense, GlobalAveragePooling2D, Dropout, BatchNormalization\n",
    "from tensorflow.keras.applications.resnet_v2 import ResNet50V2, preprocess_input"
   ]
  },
  {
   "cell_type": "code",
   "execution_count": 21,
   "id": "841d55c0",
   "metadata": {},
   "outputs": [],
   "source": [
    "#read the csv file\n",
    "df_labels = pd.read_csv(r\"C:\\Users\\Artsy\\Desktop\\Dog_Breed_Categorization\\labels.csv\")\n",
    "#store training and testing images folder location\n",
    "train_file = 'train/'\n",
    "test_file = 'test/'"
   ]
  },
  {
   "cell_type": "code",
   "execution_count": 22,
   "id": "d18533a0",
   "metadata": {},
   "outputs": [
    {
     "name": "stdout",
     "output_type": "stream",
     "text": [
      "Total number of unique Dog Breeds : 8\n"
     ]
    }
   ],
   "source": [
    "#check the total number of unique breed in our dataset file\n",
    "print(\"Total number of unique Dog Breeds :\",len(df_labels.breed.unique()))"
   ]
  },
  {
   "cell_type": "code",
   "execution_count": 23,
   "id": "14acf20d",
   "metadata": {},
   "outputs": [],
   "source": [
    "#specify number\n",
    "num_breeds = 8\n",
    "im_size = 224\n",
    "batch_size = 64\n",
    "encoder = LabelEncoder()\n"
   ]
  },
  {
   "cell_type": "code",
   "execution_count": 24,
   "id": "eec98189",
   "metadata": {},
   "outputs": [],
   "source": [
    "#get only 60 unique breeds record \n",
    "breed_dict = list(df_labels['breed'].value_counts().keys()) \n",
    "new_list = sorted(breed_dict,reverse=True)[:num_breeds*2+1:2]\n",
    "#change the dataset to have only those 60 unique breed records\n",
    "df_labels = df_labels.query('breed in @new_list')"
   ]
  },
  {
   "cell_type": "code",
   "execution_count": 25,
   "id": "901d3786",
   "metadata": {},
   "outputs": [],
   "source": [
    "#create new column which will contain image name with the image extension\n",
    "df_labels['img_file'] = df_labels['id'].apply(lambda x: x + \".jpg\")"
   ]
  },
  {
   "cell_type": "code",
   "execution_count": 26,
   "id": "89097b4d",
   "metadata": {},
   "outputs": [
    {
     "data": {
      "text/html": [
       "<div>\n",
       "<style scoped>\n",
       "    .dataframe tbody tr th:only-of-type {\n",
       "        vertical-align: middle;\n",
       "    }\n",
       "\n",
       "    .dataframe tbody tr th {\n",
       "        vertical-align: top;\n",
       "    }\n",
       "\n",
       "    .dataframe thead th {\n",
       "        text-align: right;\n",
       "    }\n",
       "</style>\n",
       "<table border=\"1\" class=\"dataframe\">\n",
       "  <thead>\n",
       "    <tr style=\"text-align: right;\">\n",
       "      <th></th>\n",
       "      <th>Unnamed: 0</th>\n",
       "      <th>id</th>\n",
       "      <th>breed</th>\n",
       "      <th>img_file</th>\n",
       "    </tr>\n",
       "  </thead>\n",
       "  <tbody>\n",
       "    <tr>\n",
       "      <th>4</th>\n",
       "      <td>70</td>\n",
       "      <td>01b36cb1b80ab8c3a7d2b7128ad21bdc</td>\n",
       "      <td>samoyed</td>\n",
       "      <td>01b36cb1b80ab8c3a7d2b7128ad21bdc.jpg</td>\n",
       "    </tr>\n",
       "    <tr>\n",
       "      <th>5</th>\n",
       "      <td>84</td>\n",
       "      <td>0206c12e8984e3c8a166cc272de25d6f</td>\n",
       "      <td>chihuahua</td>\n",
       "      <td>0206c12e8984e3c8a166cc272de25d6f.jpg</td>\n",
       "    </tr>\n",
       "    <tr>\n",
       "      <th>6</th>\n",
       "      <td>92</td>\n",
       "      <td>023e4e28415506e0deddcbd8f8bdab29</td>\n",
       "      <td>pug</td>\n",
       "      <td>023e4e28415506e0deddcbd8f8bdab29.jpg</td>\n",
       "    </tr>\n",
       "    <tr>\n",
       "      <th>7</th>\n",
       "      <td>97</td>\n",
       "      <td>02508e76981e1ba059d785704b4c480c</td>\n",
       "      <td>pug</td>\n",
       "      <td>02508e76981e1ba059d785704b4c480c.jpg</td>\n",
       "    </tr>\n",
       "    <tr>\n",
       "      <th>13</th>\n",
       "      <td>147</td>\n",
       "      <td>037ac6cbd9c96d70e68917aa059b6aab</td>\n",
       "      <td>old_english_sheepdog</td>\n",
       "      <td>037ac6cbd9c96d70e68917aa059b6aab.jpg</td>\n",
       "    </tr>\n",
       "    <tr>\n",
       "      <th>...</th>\n",
       "      <td>...</td>\n",
       "      <td>...</td>\n",
       "      <td>...</td>\n",
       "      <td>...</td>\n",
       "    </tr>\n",
       "    <tr>\n",
       "      <th>729</th>\n",
       "      <td>10035</td>\n",
       "      <td>fba73e53151cb751f9c22e63de669923</td>\n",
       "      <td>pug</td>\n",
       "      <td>fba73e53151cb751f9c22e63de669923.jpg</td>\n",
       "    </tr>\n",
       "    <tr>\n",
       "      <th>733</th>\n",
       "      <td>10137</td>\n",
       "      <td>fdcbedc65f600f81df181e9a46858cbb</td>\n",
       "      <td>chihuahua</td>\n",
       "      <td>fdcbedc65f600f81df181e9a46858cbb.jpg</td>\n",
       "    </tr>\n",
       "    <tr>\n",
       "      <th>734</th>\n",
       "      <td>10150</td>\n",
       "      <td>fe0beca881efd723510e8e859306a3a6</td>\n",
       "      <td>pug</td>\n",
       "      <td>fe0beca881efd723510e8e859306a3a6.jpg</td>\n",
       "    </tr>\n",
       "    <tr>\n",
       "      <th>736</th>\n",
       "      <td>10170</td>\n",
       "      <td>feb16cf86c9dac6d476e3c372ba5c279</td>\n",
       "      <td>pug</td>\n",
       "      <td>feb16cf86c9dac6d476e3c372ba5c279.jpg</td>\n",
       "    </tr>\n",
       "    <tr>\n",
       "      <th>740</th>\n",
       "      <td>10216</td>\n",
       "      <td>ffcffab7e4beef9a9b8076ef2ca51909</td>\n",
       "      <td>samoyed</td>\n",
       "      <td>ffcffab7e4beef9a9b8076ef2ca51909.jpg</td>\n",
       "    </tr>\n",
       "  </tbody>\n",
       "</table>\n",
       "<p>361 rows × 4 columns</p>\n",
       "</div>"
      ],
      "text/plain": [
       "     Unnamed: 0                                id                 breed  \\\n",
       "4            70  01b36cb1b80ab8c3a7d2b7128ad21bdc               samoyed   \n",
       "5            84  0206c12e8984e3c8a166cc272de25d6f             chihuahua   \n",
       "6            92  023e4e28415506e0deddcbd8f8bdab29                   pug   \n",
       "7            97  02508e76981e1ba059d785704b4c480c                   pug   \n",
       "13          147  037ac6cbd9c96d70e68917aa059b6aab  old_english_sheepdog   \n",
       "..          ...                               ...                   ...   \n",
       "729       10035  fba73e53151cb751f9c22e63de669923                   pug   \n",
       "733       10137  fdcbedc65f600f81df181e9a46858cbb             chihuahua   \n",
       "734       10150  fe0beca881efd723510e8e859306a3a6                   pug   \n",
       "736       10170  feb16cf86c9dac6d476e3c372ba5c279                   pug   \n",
       "740       10216  ffcffab7e4beef9a9b8076ef2ca51909               samoyed   \n",
       "\n",
       "                                 img_file  \n",
       "4    01b36cb1b80ab8c3a7d2b7128ad21bdc.jpg  \n",
       "5    0206c12e8984e3c8a166cc272de25d6f.jpg  \n",
       "6    023e4e28415506e0deddcbd8f8bdab29.jpg  \n",
       "7    02508e76981e1ba059d785704b4c480c.jpg  \n",
       "13   037ac6cbd9c96d70e68917aa059b6aab.jpg  \n",
       "..                                    ...  \n",
       "729  fba73e53151cb751f9c22e63de669923.jpg  \n",
       "733  fdcbedc65f600f81df181e9a46858cbb.jpg  \n",
       "734  fe0beca881efd723510e8e859306a3a6.jpg  \n",
       "736  feb16cf86c9dac6d476e3c372ba5c279.jpg  \n",
       "740  ffcffab7e4beef9a9b8076ef2ca51909.jpg  \n",
       "\n",
       "[361 rows x 4 columns]"
      ]
     },
     "execution_count": 26,
     "metadata": {},
     "output_type": "execute_result"
    }
   ],
   "source": [
    "df_labels"
   ]
  },
  {
   "cell_type": "code",
   "execution_count": 27,
   "id": "82d21ffd",
   "metadata": {},
   "outputs": [
    {
     "ename": "error",
     "evalue": "OpenCV(4.6.0) D:\\a\\opencv-python\\opencv-python\\opencv\\modules\\imgproc\\src\\resize.cpp:4052: error: (-215:Assertion failed) !ssize.empty() in function 'cv::resize'\n",
     "output_type": "error",
     "traceback": [
      "\u001b[1;31m---------------------------------------------------------------------------\u001b[0m",
      "\u001b[1;31merror\u001b[0m                                     Traceback (most recent call last)",
      "\u001b[1;32m~\\AppData\\Local\\Temp\\ipykernel_27328\\4294250819.py\u001b[0m in \u001b[0;36m<module>\u001b[1;34m\u001b[0m\n\u001b[0;32m     10\u001b[0m   \u001b[1;31m#we will get array with the shape of\u001b[0m\u001b[1;33m\u001b[0m\u001b[1;33m\u001b[0m\u001b[1;33m\u001b[0m\u001b[0m\n\u001b[0;32m     11\u001b[0m   \u001b[1;31m# (224,224,3) where 3 is the RGB channels layers\u001b[0m\u001b[1;33m\u001b[0m\u001b[1;33m\u001b[0m\u001b[1;33m\u001b[0m\u001b[0m\n\u001b[1;32m---> 12\u001b[1;33m   \u001b[0mimg\u001b[0m \u001b[1;33m=\u001b[0m \u001b[0mcv2\u001b[0m\u001b[1;33m.\u001b[0m\u001b[0mresize\u001b[0m\u001b[1;33m(\u001b[0m\u001b[0mcv2\u001b[0m\u001b[1;33m.\u001b[0m\u001b[0mimread\u001b[0m\u001b[1;33m(\u001b[0m\u001b[0mtrain_file\u001b[0m\u001b[1;33m+\u001b[0m\u001b[0mimg_id\u001b[0m\u001b[1;33m,\u001b[0m\u001b[0mcv2\u001b[0m\u001b[1;33m.\u001b[0m\u001b[0mIMREAD_COLOR\u001b[0m\u001b[1;33m)\u001b[0m\u001b[1;33m,\u001b[0m\u001b[1;33m(\u001b[0m\u001b[1;33m(\u001b[0m\u001b[0mim_size\u001b[0m\u001b[1;33m,\u001b[0m\u001b[0mim_size\u001b[0m\u001b[1;33m)\u001b[0m\u001b[1;33m)\u001b[0m\u001b[1;33m)\u001b[0m\u001b[1;33m\u001b[0m\u001b[1;33m\u001b[0m\u001b[0m\n\u001b[0m\u001b[0;32m     13\u001b[0m   \u001b[1;31m#scale array into the range of -1 to 1.\u001b[0m\u001b[1;33m\u001b[0m\u001b[1;33m\u001b[0m\u001b[1;33m\u001b[0m\u001b[0m\n\u001b[0;32m     14\u001b[0m   \u001b[1;31m#preprocess the array and expand its dimension on the axis 0\u001b[0m\u001b[1;33m\u001b[0m\u001b[1;33m\u001b[0m\u001b[1;33m\u001b[0m\u001b[0m\n",
      "\u001b[1;31merror\u001b[0m: OpenCV(4.6.0) D:\\a\\opencv-python\\opencv-python\\opencv\\modules\\imgproc\\src\\resize.cpp:4052: error: (-215:Assertion failed) !ssize.empty() in function 'cv::resize'\n"
     ]
    }
   ],
   "source": [
    "#create a numpy array of the shape\n",
    "#(number of dataset records, image size , image size, 3 for rgb channel ayer)\n",
    "#this will be input for model\n",
    "train_x = np.zeros((len(df_labels), im_size, im_size, 3), dtype='float32')\n",
    " \n",
    "#iterate over img_file column of our dataset\n",
    "for i, img_id in enumerate(df_labels['img_file']):\n",
    "  #read the image file and convert into numeric format\n",
    "  #resize all images to one dimension i.e. 224x224\n",
    "  #we will get array with the shape of\n",
    "  # (224,224,3) where 3 is the RGB channels layers\n",
    "  img = cv2.resize(cv2.imread(train_file+img_id,cv2.IMREAD_COLOR),((im_size,im_size)))\n",
    "  #scale array into the range of -1 to 1.\n",
    "  #preprocess the array and expand its dimension on the axis 0 \n",
    "  img_array = preprocess_input(np.expand_dims(np.array(img[...,::-1].astype(np.float32)).copy(), axis=0))\n",
    "  #update the train_x variable with new element\n",
    "  train_x[i] = img_array"
   ]
  },
  {
   "cell_type": "code",
   "execution_count": null,
   "id": "2ca1b162",
   "metadata": {},
   "outputs": [],
   "source": []
  }
 ],
 "metadata": {
  "kernelspec": {
   "display_name": "mlenv",
   "language": "python",
   "name": "mlenv"
  },
  "language_info": {
   "codemirror_mode": {
    "name": "ipython",
    "version": 3
   },
   "file_extension": ".py",
   "mimetype": "text/x-python",
   "name": "python",
   "nbconvert_exporter": "python",
   "pygments_lexer": "ipython3",
   "version": "3.7.13"
  }
 },
 "nbformat": 4,
 "nbformat_minor": 5
}
